{
 "cells": [
  {
   "cell_type": "code",
   "execution_count": 2,
   "metadata": {},
   "outputs": [],
   "source": [
    "from sympy import *"
   ]
  },
  {
   "cell_type": "code",
   "execution_count": 3,
   "metadata": {},
   "outputs": [
    {
     "data": {
      "text/latex": [
       "$\\displaystyle \\left(x - 1\\right)^{2} \\left(x + 2\\right)$"
      ],
      "text/plain": [
       "(x - 1)**2*(x + 2)"
      ]
     },
     "execution_count": 3,
     "metadata": {},
     "output_type": "execute_result"
    }
   ],
   "source": [
    "x = symbols ('x')\n",
    "P= x**3 - 3*x + 2\n",
    "P.factor()"
   ]
  },
  {
   "cell_type": "code",
   "execution_count": 8,
   "metadata": {},
   "outputs": [
    {
     "ename": "NameError",
     "evalue": "name 'n' is not defined",
     "output_type": "error",
     "traceback": [
      "\u001b[1;31m---------------------------------------------------------------------------\u001b[0m",
      "\u001b[1;31mNameError\u001b[0m                                 Traceback (most recent call last)",
      "Cell \u001b[1;32mIn[8], line 2\u001b[0m\n\u001b[0;32m      1\u001b[0m C1, C2, C3 \u001b[39m=\u001b[39m symbols (\u001b[39m'\u001b[39m\u001b[39mC1 C2 C3\u001b[39m\u001b[39m'\u001b[39m)\n\u001b[1;32m----> 2\u001b[0m ans \u001b[39m=\u001b[39m C1 \u001b[39m+\u001b[39m C2\u001b[39m*\u001b[39mn \u001b[39m+\u001b[39m (\u001b[39m-\u001b[39m\u001b[39m2\u001b[39m)\u001b[39m*\u001b[39m\u001b[39m*\u001b[39mn \u001b[39m*\u001b[39m C3\n",
      "\u001b[1;31mNameError\u001b[0m: name 'n' is not defined"
     ]
    }
   ],
   "source": [
    "C1, C2, C3 = symbols ('C1 C2 C3')\n",
    "ans = C1 + C2*n + (-2)**n * C3"
   ]
  },
  {
   "cell_type": "code",
   "execution_count": 7,
   "metadata": {},
   "outputs": [
    {
     "ename": "NameError",
     "evalue": "name 'n' is not defined",
     "output_type": "error",
     "traceback": [
      "\u001b[1;31m---------------------------------------------------------------------------\u001b[0m",
      "\u001b[1;31mNameError\u001b[0m                                 Traceback (most recent call last)",
      "Cell \u001b[1;32mIn[7], line 1\u001b[0m\n\u001b[1;32m----> 1\u001b[0m [ans\u001b[39m.\u001b[39;49msubs(n, i) \u001b[39mfor\u001b[39;49;00m i \u001b[39min\u001b[39;49;00m [\u001b[39m0\u001b[39;49m, \u001b[39m1\u001b[39;49m, \u001b[39m2\u001b[39;49m]]\n\u001b[0;32m      3\u001b[0m eqns \u001b[39m=\u001b[39m [ans\u001b[39m.\u001b[39msubs(n, i)\u001b[39m-\u001b[39m a \u001b[39mfor\u001b[39;00m i, a \u001b[39min\u001b[39;00m \u001b[39mzip\u001b[39m([\u001b[39m0\u001b[39m, \u001b[39m1\u001b[39m, \u001b[39m2\u001b[39m],[\u001b[39m5\u001b[39m,\u001b[39m-\u001b[39m\u001b[39m1\u001b[39m,\u001b[39m2\u001b[39m])] \n\u001b[0;32m      4\u001b[0m solve (eqns)\n",
      "Cell \u001b[1;32mIn[7], line 1\u001b[0m, in \u001b[0;36m<listcomp>\u001b[1;34m(.0)\u001b[0m\n\u001b[1;32m----> 1\u001b[0m [ans\u001b[39m.\u001b[39msubs(n, i) \u001b[39mfor\u001b[39;00m i \u001b[39min\u001b[39;00m [\u001b[39m0\u001b[39m, \u001b[39m1\u001b[39m, \u001b[39m2\u001b[39m]]\n\u001b[0;32m      3\u001b[0m eqns \u001b[39m=\u001b[39m [ans\u001b[39m.\u001b[39msubs(n, i)\u001b[39m-\u001b[39m a \u001b[39mfor\u001b[39;00m i, a \u001b[39min\u001b[39;00m \u001b[39mzip\u001b[39m([\u001b[39m0\u001b[39m, \u001b[39m1\u001b[39m, \u001b[39m2\u001b[39m],[\u001b[39m5\u001b[39m,\u001b[39m-\u001b[39m\u001b[39m1\u001b[39m,\u001b[39m2\u001b[39m])] \n\u001b[0;32m      4\u001b[0m solve (eqns)\n",
      "\u001b[1;31mNameError\u001b[0m: name 'n' is not defined"
     ]
    }
   ],
   "source": [
    "[ans.subs(n, i) for i in [0, 1, 2]]\n",
    "\n",
    "eqns = [ans.subs(n, i)- a for i, a in zip([0, 1, 2],[5,-1,2])] \n",
    "solve (eqns)"
   ]
  },
  {
   "cell_type": "code",
   "execution_count": null,
   "metadata": {},
   "outputs": [],
   "source": []
  }
 ],
 "metadata": {
  "kernelspec": {
   "display_name": "Python 3",
   "language": "python",
   "name": "python3"
  },
  "language_info": {
   "codemirror_mode": {
    "name": "ipython",
    "version": 3
   },
   "file_extension": ".py",
   "mimetype": "text/x-python",
   "name": "python",
   "nbconvert_exporter": "python",
   "pygments_lexer": "ipython3",
   "version": "3.11.4"
  },
  "orig_nbformat": 4
 },
 "nbformat": 4,
 "nbformat_minor": 2
}
