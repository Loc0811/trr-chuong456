{
 "cells": [
  {
   "cell_type": "code",
   "execution_count": 1,
   "metadata": {},
   "outputs": [
    {
     "data": {
      "text/latex": [
       "$\\displaystyle 8.88487886783417$"
      ],
      "text/plain": [
       "8.88487886783417"
      ]
     },
     "execution_count": 1,
     "metadata": {},
     "output_type": "execute_result"
    }
   ],
   "source": [
    "from sympy import *\n",
    "\n",
    "n, P, r, S = symbols ('n P r S')\n",
    "a = symbols ('a', cls = Function)\n",
    "sol = rsolve (\n",
    "    -a(n) + (1+r) * a(n-1) - P, \n",
    "    a(n), \n",
    "    {a(0): S}\n",
    ")\n",
    "sol\n",
    "\n",
    "sol.simplify()\n",
    "\n",
    "sol_P = solve (sol, P)\n",
    "sol_P\n",
    "\n",
    "sol_P [0]\n",
    "\n",
    "sol_P[0].subs({S: 100, r: 0.01, n:12})"
   ]
  },
  {
   "cell_type": "code",
   "execution_count": null,
   "metadata": {},
   "outputs": [],
   "source": []
  }
 ],
 "metadata": {
  "kernelspec": {
   "display_name": "Python 3",
   "language": "python",
   "name": "python3"
  },
  "language_info": {
   "codemirror_mode": {
    "name": "ipython",
    "version": 3
   },
   "file_extension": ".py",
   "mimetype": "text/x-python",
   "name": "python",
   "nbconvert_exporter": "python",
   "pygments_lexer": "ipython3",
   "version": "3.11.4"
  },
  "orig_nbformat": 4
 },
 "nbformat": 4,
 "nbformat_minor": 2
}
