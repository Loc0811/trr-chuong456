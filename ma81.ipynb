{
 "cells": [
  {
   "cell_type": "code",
   "execution_count": 2,
   "metadata": {},
   "outputs": [
    {
     "data": {
      "text/plain": [
       "[[4], [2, 2], [1, 2, 1], [1, 1, 1, 1]]"
      ]
     },
     "execution_count": 2,
     "metadata": {},
     "output_type": "execute_result"
    }
   ],
   "source": [
    "def symmetric_summands(n):\n",
    "    if n == 1:\n",
    "        return [[1]]\n",
    "    if n == 2:\n",
    "        return [[2], [1, 1]]\n",
    "    S = []\n",
    "    for s in symmetric_summands (n-2):\n",
    "        s [0] += 1\n",
    "        s[-1] += 1\n",
    "        S.append(s)\n",
    "    for s in symmetric_summands (n-2):\n",
    "        s = [1] + s + [1]\n",
    "        S.append(s)\n",
    "    return S\n",
    "\n",
    "symmetric_summands (4)"
   ]
  },
  {
   "cell_type": "code",
   "execution_count": null,
   "metadata": {},
   "outputs": [],
   "source": []
  }
 ],
 "metadata": {
  "kernelspec": {
   "display_name": "Python 3",
   "language": "python",
   "name": "python3"
  },
  "language_info": {
   "codemirror_mode": {
    "name": "ipython",
    "version": 3
   },
   "file_extension": ".py",
   "mimetype": "text/x-python",
   "name": "python",
   "nbconvert_exporter": "python",
   "pygments_lexer": "ipython3",
   "version": "3.12.2"
  }
 },
 "nbformat": 4,
 "nbformat_minor": 2
}
