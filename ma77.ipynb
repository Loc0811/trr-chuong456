{
 "cells": [
  {
   "cell_type": "code",
   "execution_count": 1,
   "metadata": {},
   "outputs": [
    {
     "ename": "NameError",
     "evalue": "name 'n' is not defined",
     "output_type": "error",
     "traceback": [
      "\u001b[1;31m---------------------------------------------------------------------------\u001b[0m",
      "\u001b[1;31mNameError\u001b[0m                                 Traceback (most recent call last)",
      "Cell \u001b[1;32mIn[1], line 11\u001b[0m\n\u001b[0;32m      9\u001b[0m phi\u001b[38;5;241m=\u001b[39m arg(x)\n\u001b[0;32m     10\u001b[0m C1, C2 \u001b[38;5;241m=\u001b[39m symbols (\u001b[38;5;124m'\u001b[39m\u001b[38;5;124mC1 C2\u001b[39m\u001b[38;5;124m'\u001b[39m)\n\u001b[1;32m---> 11\u001b[0m ans \u001b[38;5;241m=\u001b[39m r\u001b[38;5;241m*\u001b[39m\u001b[38;5;241m*\u001b[39m\u001b[43mn\u001b[49m\u001b[38;5;241m*\u001b[39m (C1 \u001b[38;5;241m*\u001b[39m cos(n\u001b[38;5;241m*\u001b[39mphi) \u001b[38;5;241m+\u001b[39m C2 \u001b[38;5;241m*\u001b[39m sin(n\u001b[38;5;241m*\u001b[39mphi))\n\u001b[0;32m     13\u001b[0m [ans\u001b[38;5;241m.\u001b[39msubs(n, i)\u001b[38;5;241m.\u001b[39msimplify() \u001b[38;5;28;01mfor\u001b[39;00m i \u001b[38;5;129;01min\u001b[39;00m [\u001b[38;5;241m0\u001b[39m, \u001b[38;5;241m1\u001b[39m]]\n\u001b[0;32m     15\u001b[0m solve([ans\u001b[38;5;241m.\u001b[39msubs(n, i)\u001b[38;5;241m.\u001b[39msimplify()\u001b[38;5;241m-\u001b[39m a \u001b[38;5;28;01mfor\u001b[39;00m i, a \u001b[38;5;129;01min\u001b[39;00m \u001b[38;5;28mzip\u001b[39m([\u001b[38;5;241m0\u001b[39m ,\u001b[38;5;241m1\u001b[39m], [\u001b[38;5;241m1\u001b[39m, \u001b[38;5;241m2\u001b[39m])])\n",
      "\u001b[1;31mNameError\u001b[0m: name 'n' is not defined"
     ]
    }
   ],
   "source": [
    "from sympy import *\n",
    "\n",
    "x = symbols ('x')\n",
    "P = x**2 - 2*x + 2\n",
    "solve (P)\n",
    "\n",
    "x = 1+ I\n",
    "r = abs(x)\n",
    "phi= arg(x)\n",
    "C1, C2 = symbols ('C1 C2')\n",
    "ans = r**n* (C1 * cos(n*phi) + C2 * sin(n*phi))\n",
    "\n",
    "[ans.subs(n, i).simplify() for i in [0, 1]]\n",
    "\n",
    "solve([ans.subs(n, i).simplify()- a for i, a in zip([0 ,1], [1, 2])])"
   ]
  },
  {
   "cell_type": "code",
   "execution_count": null,
   "metadata": {},
   "outputs": [],
   "source": []
  }
 ],
 "metadata": {
  "kernelspec": {
   "display_name": "Python 3",
   "language": "python",
   "name": "python3"
  },
  "language_info": {
   "codemirror_mode": {
    "name": "ipython",
    "version": 3
   },
   "file_extension": ".py",
   "mimetype": "text/x-python",
   "name": "python",
   "nbconvert_exporter": "python",
   "pygments_lexer": "ipython3",
   "version": "3.12.2"
  }
 },
 "nbformat": 4,
 "nbformat_minor": 2
}
